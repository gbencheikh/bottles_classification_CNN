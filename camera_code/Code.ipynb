{
 "cells": [
  {
   "cell_type": "code",
   "execution_count": 1,
   "metadata": {},
   "outputs": [
    {
     "name": "stdout",
     "output_type": "stream",
     "text": [
      "WARNING:tensorflow:From c:\\Users\\gbencheikh\\AppData\\Local\\Programs\\Python\\Python311\\Lib\\site-packages\\keras\\src\\losses.py:2976: The name tf.losses.sparse_softmax_cross_entropy is deprecated. Please use tf.compat.v1.losses.sparse_softmax_cross_entropy instead.\n",
      "\n",
      "2.15.0\n"
     ]
    }
   ],
   "source": [
    "import tensorflow as tf\n",
    "import keras\n",
    "print(keras.__version__)"
   ]
  },
  {
   "cell_type": "code",
   "execution_count": 9,
   "metadata": {},
   "outputs": [],
   "source": [
    "import tensorflow as tf\n",
    "import keras.models\n",
    "from tensorflow.keras.models import load_model\n",
    "from PIL import Image, ImageOps  \n",
    "import numpy as np\n",
    "import cv2 \n",
    "import cvzone\n",
    "import time "
   ]
  },
  {
   "cell_type": "code",
   "execution_count": 12,
   "metadata": {},
   "outputs": [
    {
     "name": "stdout",
     "output_type": "stream",
     "text": [
      "1/1 [==============================] - 0s 73ms/step\n",
      "yhat= [[0.00657227 0.88281345 0.01499238 0.09562192]]\n",
      "Predicted Class:  1 jus_bottles\n",
      "\n",
      "Predicted Probability:  0.88281345\n"
     ]
    }
   ],
   "source": [
    "\"\"\"  This sub-code is for testing the code \"\"\"\n",
    "\n",
    "prob_eff = 0.7\n",
    "# Load the model and labels \n",
    "model = load_model(\"Model/Model.h5\", compile=False)\n",
    "class_names = open(\"Model/labels.txt\", \"r\").readlines()\n",
    "\n",
    "image = cv2.imread('jus_bottle_test.jpg')\n",
    "\n",
    "resize = tf.image.resize(image, (256, 256))\n",
    "np.expand_dims(resize, 0).shape\n",
    "yhat = model.predict(np.expand_dims(resize/255, 0))\n",
    "print(\"yhat=\", yhat)\n",
    "\n",
    "# identify the predicted class which cooreponds to the highest predicted probability\n",
    "predicted_class = np.argmax(yhat)\n",
    "\n",
    "# Get the corresponding probability\n",
    "predicted_probability = yhat[0, predicted_class]\n",
    "\n",
    "print(\"Predicted Class: \", class_names[predicted_class])\n",
    "print(\"Predicted Probability: \", predicted_probability)"
   ]
  },
  {
   "cell_type": "code",
   "execution_count": 13,
   "metadata": {},
   "outputs": [
    {
     "name": "stdout",
     "output_type": "stream",
     "text": [
      "WARNING:tensorflow:5 out of the last 362 calls to <function Model.make_predict_function.<locals>.predict_function at 0x0000029AA41AF920> triggered tf.function retracing. Tracing is expensive and the excessive number of tracings could be due to (1) creating @tf.function repeatedly in a loop, (2) passing tensors with different shapes, (3) passing Python objects instead of tensors. For (1), please define your @tf.function outside of the loop. For (2), @tf.function has reduce_retracing=True option that can avoid unnecessary retracing. For (3), please refer to https://www.tensorflow.org/guide/function#controlling_retracing and https://www.tensorflow.org/api_docs/python/tf/function for  more details.\n",
      "1/1 [==============================] - 0s 67ms/step\n",
      "1/1 [==============================] - 0s 32ms/step\n"
     ]
    }
   ],
   "source": [
    "# define probability threshold \n",
    "prob_eff = 0.7\n",
    "\n",
    "# Load the trained model and the corresponing labels \n",
    "model = load_model(\"Model/Model.h5\", compile=False)\n",
    "class_names = open(\"Model/labels.txt\", \"r\").readlines()\n",
    "\n",
    "#launch camera \n",
    "cap = cv2.VideoCapture(0)\n",
    "\n",
    "continu = True\n",
    "\n",
    "while continu:\n",
    "    ret, image = cap.read()  # Capture frame-by-frame \n",
    "    if not ret:\n",
    "        print(\"End of video\")\n",
    "        break\n",
    "    \n",
    "    # resize image to meet prediction model settings  \n",
    "    resize = tf.image.resize(image, (256, 256))\n",
    "    np.expand_dims(resize, 0).shape\n",
    "    \n",
    "    # launch prediction \n",
    "    yhat = model.predict(np.expand_dims(resize/255, 0))\n",
    "\n",
    "    # identify the predicted class\n",
    "    index = np.argmax(yhat)\n",
    "\n",
    "    # Get the corresponding confidence probability\n",
    "    confidence_score = yhat[0, predicted_class]\n",
    "\n",
    "    # Define the new frame size for ploting the image \n",
    "    new_width, new_height = 600, 400\n",
    "\n",
    "    # Resize the image to fit the new frame size\n",
    "    image = cv2.resize(image, (new_width, new_height))\n",
    "\n",
    "    # Create a blank canvas with the new frame size\n",
    "    canvas = np.zeros((new_height, new_width, 3), dtype=np.uint8)\n",
    "\n",
    "    # Place the resized image onto the canvas\n",
    "    canvas[:image.shape[0], :image.shape[1]] = image\n",
    "\n",
    "    if index != 0:\n",
    "        #--------------------------------------------------------------------------------------------\n",
    "        # In case the machine is not empty : pause execution of program to make adequat action \n",
    "        # add delay in the execution of the program\n",
    "        delay = 5 # delay of 5 seconds \n",
    "        time.sleep(delay)\n",
    "        #--------------------------------------------------------------------------------------------\n",
    "\n",
    "        if confidence_score > prob_eff: \n",
    "            \"\"\" if program recognizes bottle \"\"\"\n",
    "            result_text = f\"Class: {class_names[index]}\"\n",
    "            \n",
    "            # For testing -----------------------------------------------------------------------------------------\n",
    "            # display result in video \n",
    "            # Get the size of the text\n",
    "            text_size = cv2.getTextSize(result_text, cv2.FONT_HERSHEY_SIMPLEX, 1, 2)[0]\n",
    "\n",
    "            # Calculate the position to center the text\n",
    "            text_x = (image.shape[1] - text_size[0]) // 2\n",
    "            text_y = 30\n",
    "\n",
    "            # Display the result\n",
    "            cv2.putText(canvas, result_text, (text_x, text_y), cv2.FONT_HERSHEY_SIMPLEX, 1, (255, 255, 255), 2)\n",
    "            #-------------------------------------------------------------------------------------------------------\n",
    "\n",
    "            user_input = input(\"continu? (press 1 for Yes/ 0 for No)\")\n",
    "\n",
    "            try:\n",
    "                res = int(user_input)\n",
    "                \n",
    "            except ValueError:\n",
    "                print(\"Invalid input. Please enter 1 or 0.\")\n",
    "\n",
    "            if res == 0:\n",
    "                continu = False\n",
    "            \n",
    "        else:\n",
    "            \"\"\" if program doesn't recognize bottle \"\"\"\n",
    "            print(\"Unkown object\")\n",
    "    \n",
    "    # Display the frame\n",
    "    cv2.imshow(\"Video with Result\", canvas)\n",
    "\n",
    "    # Break the loop if 'q' is pressed\n",
    "    if cv2.waitKey(1) & 0xFF == ord('q'):\n",
    "        break\n",
    "\n",
    "cap.release()\n",
    "cv2.destroyAllWindows()"
   ]
  }
 ],
 "metadata": {
  "kernelspec": {
   "display_name": "Python 3",
   "language": "python",
   "name": "python3"
  },
  "language_info": {
   "codemirror_mode": {
    "name": "ipython",
    "version": 3
   },
   "file_extension": ".py",
   "mimetype": "text/x-python",
   "name": "python",
   "nbconvert_exporter": "python",
   "pygments_lexer": "ipython3",
   "version": "3.11.4"
  },
  "orig_nbformat": 4
 },
 "nbformat": 4,
 "nbformat_minor": 2
}
